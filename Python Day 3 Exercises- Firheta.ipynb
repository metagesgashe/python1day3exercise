{
 "cells": [
  {
   "cell_type": "markdown",
   "metadata": {},
   "source": [
    "Exercise 1: Make an empty list and call it names"
   ]
  },
  {
   "cell_type": "code",
   "execution_count": null,
   "metadata": {},
   "outputs": [],
   "source": [
    "names = []"
   ]
  },
  {
   "cell_type": "markdown",
   "metadata": {},
   "source": [
    "Exercise 2: Make names filled with names of 5 people: Hannah, Victor, Sam, James, Sarah"
   ]
  },
  {
   "cell_type": "code",
   "execution_count": null,
   "metadata": {},
   "outputs": [],
   "source": [
    "names = [\"Hannah\", \"Victor\", \"Sam\", \"James\", \"Sarah\"]"
   ]
  },
  {
   "cell_type": "markdown",
   "metadata": {},
   "source": [
    "Exercise 3: Make names sored in reverse. Print out the list using a for-loop"
   ]
  },
  {
   "cell_type": "code",
   "execution_count": 48,
   "metadata": {},
   "outputs": [
    {
     "name": "stdout",
     "output_type": "stream",
     "text": [
      "Victor\n",
      "Sarah\n",
      "Sam\n",
      "James\n",
      "Hannah\n"
     ]
    }
   ],
   "source": [
    "names = [\"Hannah\", \"Victor\", \"Sam\", \"James\", \"Sarah\"]\n",
    "names.sort(reverse = True)\n",
    "for name in names:\n",
    "    print(name)\n",
    "\n"
   ]
  },
  {
   "cell_type": "markdown",
   "metadata": {},
   "source": [
    "Exercise 4: Make names sorted alphabetically. Print out the list using while loop"
   ]
  },
  {
   "cell_type": "code",
   "execution_count": 50,
   "metadata": {},
   "outputs": [
    {
     "name": "stdout",
     "output_type": "stream",
     "text": [
      "['Hannah', 'James', 'Sam', 'Sarah', 'Victor']\n"
     ]
    }
   ],
   "source": [
    "names = [\"Hannah\", \"Victor\", \"Sam\", \"James\", \"Sarah\"]\n",
    "names.sort()\n",
    "while True :\n",
    "    print(names)\n",
    "    break\n"
   ]
  },
  {
   "cell_type": "markdown",
   "metadata": {},
   "source": [
    "Exercise 5: Pull out the fourth item from names and print it out"
   ]
  },
  {
   "cell_type": "code",
   "execution_count": 57,
   "metadata": {},
   "outputs": [
    {
     "name": "stdout",
     "output_type": "stream",
     "text": [
      "['Hannah', 'Victor', 'Sam', 'Sarah']\n"
     ]
    }
   ],
   "source": [
    "names = [\"Hannah\", \"Victor\", \"Sam\", \"James\", \"Sarah\"]\n",
    "\n",
    "\n",
    "names.remove(\"James\")\n",
    "print(names)"
   ]
  },
  {
   "cell_type": "markdown",
   "metadata": {},
   "source": [
    "Exercise 6: Pull out the first item from names and print it out"
   ]
  },
  {
   "cell_type": "code",
   "execution_count": 58,
   "metadata": {},
   "outputs": [
    {
     "name": "stdout",
     "output_type": "stream",
     "text": [
      "['Victor', 'Sam', 'James', 'Sarah']\n"
     ]
    }
   ],
   "source": [
    "names = [\"Hannah\", \"Victor\", \"Sam\", \"James\", \"Sarah\"]\n",
    "\n",
    "names.remove(\"Hannah\")\n",
    "print(names)"
   ]
  },
  {
   "cell_type": "markdown",
   "metadata": {},
   "source": [
    "Exercise 7: Make a variable named fruits that contains a string \"Apples, Oranges, Bananas, Pineapples, Persimmons, Dragonfruit\" and make it into a list splitting it by the commas."
   ]
  },
  {
   "cell_type": "code",
   "execution_count": 61,
   "metadata": {},
   "outputs": [
    {
     "name": "stdout",
     "output_type": "stream",
     "text": [
      "['Apples', ' Oranges', ' Bananas', ' Pineapples', ' Persimmons', ' Dragonfruit']\n"
     ]
    }
   ],
   "source": [
    "fruits = \"Apples, Oranges, Bananas, Pineapples, Persimmons, Dragonfruit\"\n",
    "fruits_list = fruits.split(',')\n",
    "print(fruits_list)"
   ]
  },
  {
   "cell_type": "markdown",
   "metadata": {},
   "source": [
    "Exercise 8: Write a program to generate a right-triangle using asterisks(*) where the base of the triangle has 10 asterisks"
   ]
  },
  {
   "cell_type": "code",
   "execution_count": 62,
   "metadata": {},
   "outputs": [
    {
     "name": "stdout",
     "output_type": "stream",
     "text": [
      "*\n",
      "**\n",
      "***\n",
      "****\n",
      "*****\n",
      "******\n",
      "*******\n",
      "********\n",
      "*********\n",
      "**********\n"
     ]
    }
   ],
   "source": [
    "count = 1\n",
    "while count <= 10:\n",
    "    print(\"*\"*count)\n",
    "    count += 1"
   ]
  },
  {
   "cell_type": "markdown",
   "metadata": {},
   "source": [
    "Exercise 9: Create a list of the first 10 square numbers. i.e. the square of each integer from 1 to 10. "
   ]
  },
  {
   "cell_type": "code",
   "execution_count": 63,
   "metadata": {},
   "outputs": [
    {
     "name": "stdout",
     "output_type": "stream",
     "text": [
      "1\n",
      "4\n",
      "9\n",
      "16\n",
      "25\n",
      "36\n",
      "49\n",
      "64\n",
      "81\n",
      "100\n"
     ]
    }
   ],
   "source": [
    "count = 1\n",
    "while count <= 10:\n",
    "    print(count*count)\n",
    "    count += 1"
   ]
  },
  {
   "cell_type": "markdown",
   "metadata": {},
   "source": [
    "Exercise 10: Create a multiplication table from 1 to 10"
   ]
  },
  {
   "cell_type": "code",
   "execution_count": 64,
   "metadata": {},
   "outputs": [
    {
     "name": "stdout",
     "output_type": "stream",
     "text": [
      "   1   2   3   4   5   6   7   8   9  10\n",
      "   2   4   6   8  10  12  14  16  18  20\n",
      "   3   6   9  12  15  18  21  24  27  30\n",
      "   4   8  12  16  20  24  28  32  36  40\n",
      "   5  10  15  20  25  30  35  40  45  50\n",
      "   6  12  18  24  30  36  42  48  54  60\n",
      "   7  14  21  28  35  42  49  56  63  70\n",
      "   8  16  24  32  40  48  56  64  72  80\n",
      "   9  18  27  36  45  54  63  72  81  90\n",
      "  10  20  30  40  50  60  70  80  90  100\n"
     ]
    }
   ],
   "source": [
    "for x in range(1, 11):\n",
    "    for i in range(1, 11):\n",
    "        result = x*i\n",
    "        if result < 10:\n",
    "            empty = \"  \"\n",
    "        elif result < 100:\n",
    "            empty = \" \"\n",
    "        print(empty, result, end = '')\n",
    "    print()\n",
    "        "
   ]
  },
  {
   "cell_type": "markdown",
   "metadata": {},
   "source": [
    "Exercise 11: Write a program that gets test scores from a user and then calculates and displays the average of the scores that have been enter. The output of the program should show the original scores and the average. "
   ]
  },
  {
   "cell_type": "code",
   "execution_count": 70,
   "metadata": {},
   "outputs": [
    {
     "name": "stdout",
     "output_type": "stream",
     "text": [
      "How many scores do you want to calculate?\t5\n",
      "enter score\t20\n",
      "enter score\t20\n",
      "enter score\t10\n",
      "enter score\t20\n",
      "enter score\t30\n",
      "average =\t20.0\n"
     ]
    }
   ],
   "source": [
    "ans = int(input(\"How many scores do you want to calculate?\\t\"))\n",
    "total = 0\n",
    "for i in range(ans):\n",
    "    result = int(input(\"enter score\\t\"))\n",
    "    total += result\n",
    "\n",
    "print(f\"average =\\t{total/ans}\")\n",
    "    "
   ]
  },
  {
   "cell_type": "code",
   "execution_count": 72,
   "metadata": {},
   "outputs": [
    {
     "name": "stdout",
     "output_type": "stream",
     "text": [
      "enter 'y' to continue or 'n' to stop\n",
      "enter score\t50\n",
      "continue?\ty\n",
      "enter score\t60\n",
      "continue?\ty\n",
      "enter score\t60\n",
      "continue?\ty\n",
      "enter score\t50\n",
      "continue?\ty\n",
      "enter score\t80\n",
      "continue?\tn\n",
      "The average is 60.0 \n"
     ]
    }
   ],
   "source": [
    "# or using while loop we can calculate as follows\n",
    "ans = 'y'\n",
    "count = 0\n",
    "total = 0\n",
    "print(\"enter 'y' to continue or 'n' to stop\")\n",
    "while ans != \"n\":\n",
    "    score = int(input(\"enter score\\t\"))\n",
    "    total += score\n",
    "    count += 1\n",
    "    ans = input(\"continue?\\t\")\n",
    "print(f\"The average is {total/count} \")\n",
    "    \n",
    "    "
   ]
  },
  {
   "cell_type": "markdown",
   "metadata": {},
   "source": [
    "Challenge:\n",
    "Write a program that maintains a list of movies, and the user can list all the movies, add a movie to the list, or delete a movie from the list.\n",
    "\n",
    "Example\n",
    "\n",
    "###### COMMAND MENU\n",
    "```\n",
    "list - list all movies\n",
    "add - add a movie\n",
    "del - delete a movie\n",
    "exit - exit program \n",
    "```\n",
    "\n",
    "###### Command: list\n",
    "``` \n",
    " 1. Toy Story\n",
    " 2. Lion King\n",
    " 3. Frozen\n",
    " ```\n",
    "\n",
    "###### Command: add\n",
    " ```\n",
    " Name: Snow White\n",
    " Snow White was added.\n",
    " ```\n",
    "\n",
    "###### Command: del\n",
    "```\n",
    " Number: 3\n",
    " Frozen was deleted.```\n"
   ]
  },
  {
   "cell_type": "code",
   "execution_count": 75,
   "metadata": {},
   "outputs": [
    {
     "name": "stdout",
     "output_type": "stream",
     "text": [
      "what do you want to do? 'list', 'add', 'dell', 'exit'\tlist\n",
      "Toy Story\n",
      "Lion King\n",
      "Frozen\n",
      "what do you want to do? 'list', 'add', 'dell', 'exit'\tadd\n",
      "what is the movie you want to add?\tTitanic\n",
      "\"Titanic\" was added\n",
      "what do you want to do? 'list', 'add', 'dell', 'exit'\tlist\n",
      "Toy Story\n",
      "Lion King\n",
      "Frozen\n",
      "Titanic\n",
      "what do you want to do? 'list', 'add', 'dell', 'exit'\tadd\n",
      "what is the movie you want to add?\tSnow White\n",
      "\"Snow White\" was added\n",
      "what do you want to do? 'list', 'add', 'dell', 'exit'\tlist\n",
      "Toy Story\n",
      "Lion King\n",
      "Frozen\n",
      "Titanic\n",
      "Snow White\n",
      "what do you want to do? 'list', 'add', 'dell', 'exit'\tdell\n",
      "which movie do you want to delet?\t2\n",
      "\"Frozen\" was deleted\n",
      "what do you want to do? 'list', 'add', 'dell', 'exit'\tlist\n",
      "Toy Story\n",
      "Lion King\n",
      "Titanic\n",
      "Snow White\n",
      "what do you want to do? 'list', 'add', 'dell', 'exit'\texit\n",
      "goodbye\n"
     ]
    }
   ],
   "source": [
    "movies = [\"Toy Story\", \"Lion King\", \"Frozen\"]\n",
    "response = input(\"what do you want to do? 'list', 'add', 'dell', 'exit'\\t\")\n",
    "while response != \"exit\":\n",
    "    if response == \"list\":\n",
    "        for i in movies:\n",
    "            print(i)\n",
    "    elif response == \"add\":\n",
    "        name = input(\"what is the movie you want to add?\\t\")\n",
    "        movies.append(name)\n",
    "        print(f\"\\\"{name}\\\" was added\")\n",
    "    elif response == \"dell\":\n",
    "        number = int(input(\"which movie do you want to delet?\\t\"))\n",
    "        index = movies.pop(number)\n",
    "        print(f\"\\\"{index}\\\" was deleted\")\n",
    "    else:\n",
    "        print(\"please enter the right choice\")\n",
    "    response = input(\"what do you want to do? 'list', 'add', 'dell', 'exit'\\t\")\n",
    "print(\"goodbye\")"
   ]
  },
  {
   "cell_type": "code",
   "execution_count": null,
   "metadata": {},
   "outputs": [],
   "source": []
  },
  {
   "cell_type": "code",
   "execution_count": null,
   "metadata": {},
   "outputs": [],
   "source": []
  }
 ],
 "metadata": {
  "kernelspec": {
   "display_name": "Python 3",
   "language": "python",
   "name": "python3"
  },
  "language_info": {
   "codemirror_mode": {
    "name": "ipython",
    "version": 3
   },
   "file_extension": ".py",
   "mimetype": "text/x-python",
   "name": "python",
   "nbconvert_exporter": "python",
   "pygments_lexer": "ipython3",
   "version": "3.8.3"
  }
 },
 "nbformat": 4,
 "nbformat_minor": 4
}
